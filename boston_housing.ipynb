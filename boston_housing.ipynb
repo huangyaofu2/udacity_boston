{
 "cells": [
  {
   "cell_type": "markdown",
   "metadata": {},
   "source": [
    "# 机器学习工程师纳米学位\n",
    "## 模型评价与验证\n",
    "## 项目 1: 预测波士顿房价\n",
    "\n",
    "\n",
    "欢迎来到机器学习工程师纳米学位的第一个项目！在此文件中，有些示例代码已经提供给你，但你还需要实现更多的功能来让项目成功运行。除非有明确要求，你无须修改任何已给出的代码。以**编程练习**开始的标题表示接下来的内容中有需要你必须实现的功能。每一部分都会有详细的指导，需要实现的部分也会在注释中以**TODO**标出。请仔细阅读所有的提示！\n",
    "\n",
    "除了实现代码外，你还**必须**回答一些与项目和实现有关的问题。每一个需要你回答的问题都会以**'问题 X'**为标题。请仔细阅读每个问题，并且在问题后的**'回答'**文字框中写出完整的答案。你的项目将会根据你对问题的回答和撰写代码所实现的功能来进行评分。\n",
    "\n",
    ">**提示：**Code 和 Markdown 区域可通过 **Shift + Enter** 快捷键运行。此外，Markdown可以通过双击进入编辑模式。"
   ]
  },
  {
   "cell_type": "markdown",
   "metadata": {},
   "source": [
    "---\n",
    "## 第一步. 导入数据\n",
    "在这个项目中，你将利用马萨诸塞州波士顿郊区的房屋信息数据训练和测试一个模型，并对模型的性能和预测能力进行测试。通过该数据训练后的好的模型可以被用来对房屋做特定预测---尤其是对房屋的价值。对于房地产经纪等人的日常工作来说，这样的预测模型被证明非常有价值。\n",
    "\n",
    "此项目的数据集来自[UCI机器学习知识库(数据集已下线)](https://archive.ics.uci.edu/ml/datasets.html)。波士顿房屋这些数据于1978年开始统计，共506个数据点，涵盖了麻省波士顿不同郊区房屋14种特征的信息。本项目对原始数据集做了以下处理：\n",
    "- 有16个`'MEDV'` 值为50.0的数据点被移除。 这很可能是由于这些数据点包含**遗失**或**看不到的值**。\n",
    "- 有1个数据点的 `'RM'` 值为8.78. 这是一个异常值，已经被移除。\n",
    "- 对于本项目，房屋的`'RM'`， `'LSTAT'`，`'PTRATIO'`以及`'MEDV'`特征是必要的，其余不相关特征已经被移除。\n",
    "- `'MEDV'`特征的值已经过必要的数学转换，可以反映35年来市场的通货膨胀效应。\n",
    "\n",
    "运行下面区域的代码以载入波士顿房屋数据集，以及一些此项目所需的Python库。如果成功返回数据集的大小，表示数据集已载入成功。"
   ]
  },
  {
   "cell_type": "code",
   "execution_count": 23,
   "metadata": {
    "collapsed": true
   },
   "outputs": [],
   "source": [
    "# 载入此项目所需要的库\n",
    "import numpy as np\n",
    "import pandas as pd\n",
    "import visuals as vs # Supplementary code\n",
    "\n",
    "# 检查你的Python版本\n",
    "from sys import version_info\n",
    "if version_info.major != 2 and version_info.minor != 7:\n",
    "    raise Exception('请使用Python 2.7来完成此项目')\n",
    "    \n",
    "# 让结果在notebook中显示\n",
    "%matplotlib inline"
   ]
  },
  {
   "cell_type": "code",
   "execution_count": 24,
   "metadata": {},
   "outputs": [
    {
     "name": "stdout",
     "output_type": "stream",
     "text": [
      "Boston housing dataset has 489 data points with 4 variables each.\n"
     ]
    }
   ],
   "source": [
    "# 载入波士顿房屋的数据集\n",
    "data = pd.read_csv('housing.csv')\n",
    "prices = data['MEDV']\n",
    "features = data.drop('MEDV', axis = 1)\n",
    "    \n",
    "# 完成\n",
    "print \"Boston housing dataset has {} data points with {} variables each.\".format(*data.shape)"
   ]
  },
  {
   "cell_type": "markdown",
   "metadata": {},
   "source": [
    "---\n",
    "## 第二步. 分析数据\n",
    "在项目的第一个部分，你会对波士顿房地产数据进行初步的观察并给出你的分析。通过对数据的探索来熟悉数据可以让你更好地理解和解释你的结果。\n",
    "\n",
    "由于这个项目的最终目标是建立一个预测房屋价值的模型，我们需要将数据集分为**特征(features)**和**目标变量(target variable)**。\n",
    "- **特征** `'RM'`， `'LSTAT'`，和 `'PTRATIO'`，给我们提供了每个数据点的数量相关的信息。\n",
    "- **目标变量**：` 'MEDV'`，是我们希望预测的变量。\n",
    "\n",
    "他们分别被存在`features`和`prices`两个变量名中。"
   ]
  },
  {
   "cell_type": "markdown",
   "metadata": {},
   "source": [
    "### 编程练习 1：基础统计运算\n",
    "你的第一个编程练习是计算有关波士顿房价的描述统计数据。我们已为你导入了` numpy `，你需要使用这个库来执行必要的计算。这些统计数据对于分析模型的预测结果非常重要的。\n",
    "在下面的代码中，你要做的是：\n",
    "- 计算`prices`中的`'MEDV'`的最小值、最大值、均值、中值和标准差；\n",
    "- 将运算结果储存在相应的变量中。"
   ]
  },
  {
   "cell_type": "code",
   "execution_count": 25,
   "metadata": {},
   "outputs": [
    {
     "name": "stdout",
     "output_type": "stream",
     "text": [
      "Statistics for Boston housing dataset:\n",
      "\n",
      "Minimum price: $105,000.00\n",
      "Maximum price: $1,024,800.00\n",
      "Mean price: $454,342.94\n",
      "Median price $438,900.00\n",
      "Standard deviation of prices: $165,171.13\n"
     ]
    }
   ],
   "source": [
    "#TODO 1\n",
    "\n",
    "#目标：计算价值的最小值\n",
    "minimum_price = np.min(data['MEDV'])\n",
    "\n",
    "#目标：计算价值的最大值\n",
    "maximum_price = np.max(data['MEDV'])\n",
    "\n",
    "#目标：计算价值的平均值\n",
    "mean_price = np.mean(data['MEDV'])\n",
    "\n",
    "#目标：计算价值的中值\n",
    "median_price = np.median(data['MEDV'])\n",
    "\n",
    "#目标：计算价值的标准差\n",
    "std_price = np.std(data['MEDV'])\n",
    "\n",
    "#目标：输出计算的结果\n",
    "print \"Statistics for Boston housing dataset:\\n\"\n",
    "print \"Minimum price: ${:,.2f}\".format(minimum_price)\n",
    "print \"Maximum price: ${:,.2f}\".format(maximum_price)\n",
    "print \"Mean price: ${:,.2f}\".format(mean_price)\n",
    "print \"Median price ${:,.2f}\".format(median_price)\n",
    "print \"Standard deviation of prices: ${:,.2f}\".format(std_price)"
   ]
  },
  {
   "cell_type": "markdown",
   "metadata": {},
   "source": [
    "### 问题 1 - 特征观察\n",
    "\n",
    "如前文所述，本项目中我们关注的是其中三个值:`'RM'`、`'LSTAT'` 和`'PTRATIO'`，对每一个数据点:\n",
    "- `'RM'` 是该地区中每个房屋的平均房间数量；\n",
    "- `'LSTAT'` 是指该地区有多少百分比的业主属于是低收入阶层（有工作但收入微薄）；\n",
    "- `'PTRATIO'` 是该地区的中学和小学里，学生和老师的数目比（`学生/老师`）。\n",
    "\n",
    "_凭直觉，上述三个特征中对每一个来说，你认为增大该特征的数值，`'MEDV'`的值会是**增大**还是**减小**呢？每一个答案都需要你给出理由。_\n",
    "\n",
    "**提示：**你预期一个`'RM'` 值是6的房屋跟`'RM'` 值是7的房屋相比，价值更高还是更低呢？"
   ]
  },
  {
   "cell_type": "markdown",
   "metadata": {},
   "source": [
    "### 问题 1 - 回答：\n",
    "\n",
    " - `'RM'`值越大，`'MEDV'`也越大，因为更多的房间意味着占地越大，价格也会越高\n",
    " - `'LSTAT'`值越大，`'MEDV'`应该是越低，因为`'LSTAT'`越大，富有阶层越少，买的房子价格会偏低\n",
    " - `'PTRATIO'`值越大，`'MEDV'`应该越低，因为教育投入与社会发达程度挂钩，配置的老师越少，意味着`'PTRATIO'`越高，能负担起高房价的人会越少。"
   ]
  },
  {
   "cell_type": "markdown",
   "metadata": {},
   "source": [
    "### 编程练习 2: 数据分割与重排\n",
    "接下来，你需要把波士顿房屋数据集分成训练和测试两个子集。通常在这个过程中，数据也会被重排列，以消除数据集中由于顺序而产生的偏差。\n",
    "在下面的代码中，你需要\n",
    "\n",
    "使用 `sklearn.model_selection` 中的 `train_test_split`， 将`features`和`prices`的数据都分成用于训练的数据子集和用于测试的数据子集。\n",
    "  - 分割比例为：80%的数据用于训练，20%用于测试；\n",
    "  - 选定一个数值以设定 `train_test_split` 中的 `random_state` ，这会确保结果的一致性；"
   ]
  },
  {
   "cell_type": "code",
   "execution_count": 26,
   "metadata": {
    "collapsed": true
   },
   "outputs": [],
   "source": [
    "# TODO 2\n",
    "\n",
    "# 提示： 导入train_test_split\n",
    "from sklearn.model_selection import train_test_split\n",
    "X_train, X_test, y_train, y_test = train_test_split(features,prices,test_size=0.2,random_state=33)"
   ]
  },
  {
   "cell_type": "markdown",
   "metadata": {},
   "source": [
    "### 问题 2 - 训练及测试\n",
    "*将数据集按一定比例分为训练用的数据集和测试用的数据集对学习算法有什么好处？*\n",
    "\n",
    "*如果用模型已经见过的数据，例如部分训练集数据进行测试，又有什么坏处？*\n",
    "\n",
    "**提示：** 如果没有数据来对模型进行测试，会出现什么问题？"
   ]
  },
  {
   "cell_type": "markdown",
   "metadata": {},
   "source": [
    "### 问题 2 - 回答:\n",
    "\n",
    "训练数据集是用于训练模型，而测试数据集是把新的数据通过模型来生成结果，然后与测试数据集的标签进行比对，是为了验证模型的优劣。\n",
    "为了公平性，训练数据集不应该用于测试中，由于数据集只有一份，训练数据多了，测试数据就少。如果训练数据少了，会导致模型训练不充分；而如果测试数据少了，用于验证的效果就缺少。\n",
    "\n",
    "如果用模型已经见过的数据进行测试，由于模型是从训练数据集训练出来的，用于已经出现过的数据，他能恨好的预测，但是对于没有出现过的数据，就不一定能很好地预测，也就是过拟合的问题。"
   ]
  },
  {
   "cell_type": "markdown",
   "metadata": {},
   "source": [
    "---\n",
    "## 第三步. 模型衡量标准\n",
    "在项目的第三步中，你需要了解必要的工具和技巧来让你的模型进行预测。用这些工具和技巧对每一个模型的表现做精确的衡量可以极大地增强你预测的信心。"
   ]
  },
  {
   "cell_type": "markdown",
   "metadata": {},
   "source": [
    "### 编程练习3：定义衡量标准\n",
    "如果不能对模型的训练和测试的表现进行量化地评估，我们就很难衡量模型的好坏。通常我们会定义一些衡量标准，这些标准可以通过对某些误差或者拟合程度的计算来得到。在这个项目中，你将通过运算[*决定系数*](http://stattrek.com/statistics/dictionary.aspx?definition=coefficient_of_determination) R<sup>2</sup> 来量化模型的表现。模型的决定系数是回归分析中十分常用的统计信息，经常被当作衡量模型预测能力好坏的标准。\n",
    "\n",
    "R<sup>2</sup>的数值范围从0至1，表示**目标变量**的预测值和实际值之间的相关程度平方的百分比。一个模型的R<sup>2</sup> 值为0还不如直接用**平均值**来预测效果好；而一个R<sup>2</sup> 值为1的模型则可以对目标变量进行完美的预测。从0至1之间的数值，则表示该模型中目标变量中有百分之多少能够用**特征**来解释。_模型也可能出现负值的R<sup>2</sup>，这种情况下模型所做预测有时会比直接计算目标变量的平均值差很多。_\n",
    "\n",
    "在下方代码的 `performance_metric` 函数中，你要实现：\n",
    "- 使用 `sklearn.metrics` 中的 [`r2_score`](http://scikit-learn.org/stable/modules/generated/sklearn.metrics.r2_score.html) 来计算 `y_true` 和 `y_predict`的R<sup>2</sup>值，作为对其表现的评判。\n",
    "- 将他们的表现评分储存到`score`变量中。\n",
    "\n",
    "或 \n",
    "\n",
    "- (可选) 不使用任何外部库，参考[决定系数的定义](https://en.wikipedia.org/wiki/Coefficient_of_determination)进行计算，这也可以帮助你更好的理解决定系数在什么情况下等于0或等于1。"
   ]
  },
  {
   "cell_type": "code",
   "execution_count": 27,
   "metadata": {},
   "outputs": [
    {
     "data": {
      "text/plain": [
       "0.94860813704496794"
      ]
     },
     "execution_count": 27,
     "metadata": {},
     "output_type": "execute_result"
    }
   ],
   "source": [
    "# TODO 3\n",
    "\n",
    "# 提示： 导入r2_score\n",
    "from sklearn.metrics import r2_score\n",
    "def performance_metric(y_true, y_predict):\n",
    "    \"\"\"计算并返回预测值相比于预测值的分数\"\"\"\n",
    "    \n",
    "    score = r2_score(y_true,y_predict)\n",
    "\n",
    "    return score\n",
    "\n",
    "y_true = [3, -0.5, 2, 7]\n",
    "y_pred = [2.5, 0.0, 2, 8]\n",
    "performance_metric(y_true, y_pred) \n"
   ]
  },
  {
   "cell_type": "code",
   "execution_count": 28,
   "metadata": {},
   "outputs": [
    {
     "data": {
      "text/plain": [
       "0.94860813704496794"
      ]
     },
     "execution_count": 28,
     "metadata": {},
     "output_type": "execute_result"
    }
   ],
   "source": [
    "# TODO 3 可选\n",
    "\n",
    "# 不允许导入任何计算决定系数的库\n",
    "\n",
    "def performance_metric2(y_true, y_predict):\n",
    "    \"\"\"计算并返回预测值相比于预测值的分数\"\"\"\n",
    "    mean_true=np.mean(y_true)\n",
    "    mean_predict=np.mean(y_predict)\n",
    "    ss_tot=sum([(y-mean_true)**2 for y in y_true])\n",
    "    ss_res=sum([(y1-y2)**2 for y1,y2 in zip(y_true,y_predict)])\n",
    "    score=1-(ss_res/ss_tot)\n",
    "    return score\n",
    "\n",
    "y_true = [3, -0.5, 2, 7]\n",
    "y_pred = [2.5, 0.0, 2, 8]\n",
    "performance_metric2(y_true, y_pred)"
   ]
  },
  {
   "cell_type": "markdown",
   "metadata": {},
   "source": [
    "### 问题 3 - 拟合程度\n",
    "\n",
    "假设一个数据集有五个数据且一个模型做出下列目标变量的预测：\n",
    "\n",
    "| 真实数值 | 预测数值 |\n",
    "| :-------------: | :--------: |\n",
    "| 3.0 | 2.5 |\n",
    "| -0.5 | 0.0 |\n",
    "| 2.0 | 2.1 |\n",
    "| 7.0 | 7.8 |\n",
    "| 4.2 | 5.3 |\n",
    "*你觉得这个模型已成功地描述了目标变量的变化吗？如果成功，请解释为什么，如果没有，也请给出原因。*  \n",
    "\n",
    "**提示**：运行下方的代码，使用`performance_metric`函数来计算模型的决定系数。"
   ]
  },
  {
   "cell_type": "code",
   "execution_count": 29,
   "metadata": {},
   "outputs": [
    {
     "name": "stdout",
     "output_type": "stream",
     "text": [
      "Model has a coefficient of determination, R^2, of 0.923.\n"
     ]
    }
   ],
   "source": [
    "# 计算这个模型的预测结果的决定系数\n",
    "score = performance_metric([3, -0.5, 2, 7, 4.2], [2.5, 0.0, 2.1, 7.8, 5.3])\n",
    "print \"Model has a coefficient of determination, R^2, of {:.3f}.\".format(score)"
   ]
  },
  {
   "cell_type": "markdown",
   "metadata": {},
   "source": [
    "### 问题 3 - 回答:\n",
    "\n",
    "这个模型已成功描述目标变量的变化，因为R<sup>2</sup>值为0.923，即目标值有92.3%的数据能够用特征来解释"
   ]
  },
  {
   "cell_type": "markdown",
   "metadata": {},
   "source": [
    "---\n",
    "## 第四步. 分析模型的表现\n",
    "在项目的第四步，我们来看一下不同参数下，模型在训练集和验证集上的表现。这里，我们专注于一个特定的算法（带剪枝的决策树，但这并不是这个项目的重点），和这个算法的一个参数 `'max_depth'`。用全部训练集训练，选择不同`'max_depth'` 参数，观察这一参数的变化如何影响模型的表现。画出模型的表现来对于分析过程十分有益，这可以让我们看到一些单看结果看不到的行为。"
   ]
  },
  {
   "cell_type": "markdown",
   "metadata": {},
   "source": [
    "### 学习曲线\n",
    "下方区域内的代码会输出四幅图像，它们是一个决策树模型在不同最大深度下的表现。每一条曲线都直观得显示了随着训练数据量的增加，模型学习曲线的在训练集评分和验证集评分的变化，评分使用决定系数R<sup>2</sup>。曲线的阴影区域代表的是该曲线的不确定性（用标准差衡量）。\n",
    "\n",
    "运行下方区域中的代码，并利用输出的图形回答下面的问题。"
   ]
  },
  {
   "cell_type": "code",
   "execution_count": 30,
   "metadata": {
    "scrolled": false
   },
   "outputs": [
    {
     "data": {
      "image/png": "[encoded data removed]",
      "text/plain": [
       "<matplotlib.figure.Figure at 0xc7187b8>"
      ]
     },
     "metadata": {},
     "output_type": "display_data"
    }
   ],
   "source": [
    "# 根据不同的训练集大小，和最大深度，生成学习曲线\n",
    "vs.ModelLearning(X_train, y_train)"
   ]
  },
  {
   "cell_type": "markdown",
   "metadata": {},
   "source": [
    "### 问题 4 - 学习曲线\n",
    "*选择上述图像中的其中一个，并给出其最大深度。随着训练数据量的增加，训练集曲线的评分有怎样的变化？验证集曲线呢？如果有更多的训练数据，是否能有效提升模型的表现呢？*\n",
    "\n",
    "**提示：**学习曲线的评分是否最终会收敛到特定的值？"
   ]
  },
  {
   "cell_type": "markdown",
   "metadata": {},
   "source": [
    "### 问题 4 - 回答:\n",
    "\n",
    "上图可看到，随着训练数据量的增加，训练集曲线和验证集曲线都会收敛到一个值，如图2（max_depth=3），可看到两曲线的决定系数R<sup>2</sup>趋于0.8，所以如果增加更多的训练数据，会提高到一个阀值，之后再增加也不会提高决定系数。  \n",
    "\n"
   ]
  },
  {
   "cell_type": "markdown",
   "metadata": {},
   "source": [
    "### 复杂度曲线\n",
    "下列代码内的区域会输出一幅图像，它展示了一个已经经过训练和验证的决策树模型在不同最大深度条件下的表现。这个图形将包含两条曲线，一个是训练集的变化，一个是验证集的变化。跟**学习曲线**相似，阴影区域代表该曲线的不确定性，模型训练和测试部分的评分都用的 `performance_metric` 函数。\n",
    "\n",
    "运行下方区域中的代码，并利用输出的图形并回答下面的两个问题。"
   ]
  },
  {
   "cell_type": "code",
   "execution_count": 31,
   "metadata": {},
   "outputs": [
    {
     "data": {
      "image/png": "[encoded data removed]",
      "text/plain": [
       "<matplotlib.figure.Figure at 0xe037c50>"
      ]
     },
     "metadata": {},
     "output_type": "display_data"
    }
   ],
   "source": [
    "# 根据不同的最大深度参数，生成复杂度曲线\n",
    "vs.ModelComplexity(X_train, y_train)"
   ]
  },
  {
   "cell_type": "markdown",
   "metadata": {},
   "source": [
    "### 问题 5 - 偏差（bias）与方差（variance）之间的权衡取舍\n",
    "*当模型以最大深度 1训练时，模型的预测是出现很大的偏差还是出现了很大的方差？当模型以最大深度10训练时，情形又如何呢？图形中的哪些特征能够支持你的结论？*\n",
    "  \n",
    "**提示：** 你如何得知模型是否出现了偏差很大或者方差很大的问题？"
   ]
  },
  {
   "cell_type": "markdown",
   "metadata": {},
   "source": [
    "### 问题 5 - 回答:\n",
    "当模型以最大深度1训练时，决定系数R<sup>2</sup>处于很低的值，属于欠拟合，模型出现很大的偏差。  \n",
    "当模型以最大深度10训练时，验证集曲线的阴影部分变大，不确定性变大，属于过拟合，预测出现了较大的方差。\n"
   ]
  },
  {
   "cell_type": "markdown",
   "metadata": {},
   "source": [
    "### 问题 6- 最优模型的猜测\n",
    "*结合问题 5 中的图，你认为最大深度是多少的模型能够最好地对未见过的数据进行预测？你得出这个答案的依据是什么？*"
   ]
  },
  {
   "cell_type": "markdown",
   "metadata": {},
   "source": [
    "### 问题 6 - 回答:\n",
    "最大深度为4的模型能最好地对未见过的数据进行预测，因为在最大深度为4的情况下，决定系数R<sup>2</sup>在比较高的分值，偏差比较低  \n",
    "同时，阴影部分也是比较小，方差比较小"
   ]
  },
  {
   "cell_type": "markdown",
   "metadata": {},
   "source": [
    "---\n",
    "## 第五步. 选择最优参数"
   ]
  },
  {
   "cell_type": "markdown",
   "metadata": {},
   "source": [
    "### 问题 7- 网格搜索（Grid Search）\n",
    "*什么是网格搜索法？如何用它来优化模型？*\n"
   ]
  },
  {
   "cell_type": "markdown",
   "metadata": {},
   "source": [
    "### 问题 7 - 回答:\n",
    "网格搜索是遍历多种参数，通过交叉验证来确定最佳效果参数。\n",
    "\n",
    "多种参数的各个组合组成网格，然后遍历参数组合网格，每个组合进行交叉验证，然后找出最优的组合  \n",
    "传入参数字典和可取的值"
   ]
  },
  {
   "cell_type": "markdown",
   "metadata": {},
   "source": [
    "### 问题 8 - 交叉验证\n",
    "- 什么是K折交叉验证法（k-fold cross-validation）？\n",
    "- [GridSearchCV](http://scikit-learn.org/stable/modules/generated/sklearn.model_selection.GridSearchCV.html)是如何结合交叉验证来完成对最佳参数组合的选择的？\n",
    "- [GridSearchCV](http://scikit-learn.org/stable/modules/generated/sklearn.model_selection.GridSearchCV.html)中的`'cv_results_'`属性能告诉我们什么？\n",
    "- 网格搜索时如果不使用交叉验证会有什么问题？交叉验证又是如何解决这个问题的？\n",
    "\n",
    "**提示：** 在下面 fit_model函数最后加入 `print pd.DataFrame(grid.cv_results_)` 可以帮你查看更多信息。"
   ]
  },
  {
   "cell_type": "markdown",
   "metadata": {},
   "source": [
    "### 问题 8 - 回答：\n",
    " - K折交叉验证法是将训练集分成K份，拿出一份来作为测试数据集，剩下的K-1份作为训练数据集，如此循环K次，得出K份分数，以这K份测试结果的平均值作为总体的测试结果。\n",
    " - GridSearchCV是通过交叉验证的结果作为每次的评分。\n",
    " - 返回各个参数组合下的交叉验证结果评分。\n",
    " - 如果不采用交叉验证，需要用别的方式去衡量模型的好坏。交叉验证通过分割出训练集和验证及来得出模型是否能更好地适应新数据。"
   ]
  },
  {
   "cell_type": "markdown",
   "metadata": {},
   "source": [
    "### 编程练习 4：训练最优模型\n",
    "在这个练习中，你将需要将所学到的内容整合，使用**决策树算法**训练一个模型。为了得出的是一个最优模型，你需要使用网格搜索法训练模型，以找到最佳的 `'max_depth'` 参数。你可以把`'max_depth'` 参数理解为决策树算法在做出预测前，允许其对数据提出问题的数量。决策树是**监督学习算法**中的一种。\n",
    "\n",
    "在下方 `fit_model` 函数中，你需要做的是：\n",
    "1. **定义 `'cross_validator'` 变量**: 使用 `sklearn.model_selection` 中的 [`KFold`](http://scikit-learn.org/stable/modules/generated/sklearn.model_selection.KFold.html) 创建一个交叉验证生成器对象;\n",
    "2. **定义 `'regressor'` 变量**: 使用  `sklearn.tree` 中的 [`DecisionTreeRegressor`](http://scikit-learn.org/stable/modules/generated/sklearn.tree.DecisionTreeRegressor.html) 创建一个决策树的回归函数;\n",
    "3. **定义 `'params'` 变量**: 为 `'max_depth'` 参数创造一个字典，它的值是从1至10的数组;\n",
    "4. **定义 `'scoring_fnc'` 变量**: 使用 `sklearn.metrics` 中的 [`make_scorer`](http://scikit-learn.org/stable/modules/generated/sklearn.metrics.make_scorer.html)  创建一个评分函数；\n",
    " 将 `‘performance_metric’` 作为参数传至这个函数中；\n",
    "5. **定义 `'grid'` 变量**: 使用 `sklearn.model_selection` 中的 [`GridSearchCV`](http://scikit-learn.org/stable/modules/generated/sklearn.model_selection.GridSearchCV.html) 创建一个网格搜索对象；将变量`'regressor'`, `'params'`, `'scoring_fnc'`和 `'cross_validator'` 作为参数传至这个对象构造函数中；\n",
    "  \n",
    "如果你对python函数的默认参数定义和传递不熟悉，可以参考这个MIT课程的[视频](http://cn-static.udacity.com/mlnd/videos/MIT600XXT114-V004200_DTH.mp4)。"
   ]
  },
  {
   "cell_type": "code",
   "execution_count": 35,
   "metadata": {
    "collapsed": true
   },
   "outputs": [],
   "source": [
    "# TODO 4\n",
    "\n",
    "#提示: 导入 'KFold' 'DecisionTreeRegressor' 'make_scorer' 'GridSearchCV' \n",
    "from sklearn.model_selection import KFold\n",
    "from sklearn.tree import DecisionTreeRegressor\n",
    "from sklearn.metrics import make_scorer\n",
    "from sklearn.model_selection import GridSearchCV\n",
    "def fit_model(X, y):\n",
    "    \"\"\" 基于输入数据 [X,y]，利于网格搜索找到最优的决策树模型\"\"\"\n",
    "    \n",
    "    cross_validator = KFold(n_splits=10,random_state=1, shuffle=True)\n",
    "    \n",
    "    regressor = DecisionTreeRegressor()\n",
    "\n",
    "    params = {'max_depth':range(1,11)}\n",
    "\n",
    "    scoring_fnc = make_scorer(performance_metric)\n",
    "\n",
    "    grid = GridSearchCV(regressor,params,scoring=scoring_fnc,cv=cross_validator)\n",
    "\n",
    "    # 基于输入数据 [X,y]，进行网格搜索\n",
    "    grid = grid.fit(X, y)\n",
    "    print pd.DataFrame(grid.cv_results_)\n",
    "    # 返回网格搜索后的最优模型\n",
    "    return grid.best_estimator_"
   ]
  },
  {
   "cell_type": "markdown",
   "metadata": {},
   "source": [
    "### 编程练习 4：训练最优模型 （可选）\n",
    "在这个练习中，你将需要将所学到的内容整合，使用**决策树算法**训练一个模型。为了得出的是一个最优模型，你需要使用网格搜索法训练模型，以找到最佳的 `'max_depth'` 参数。你可以把`'max_depth'` 参数理解为决策树算法在做出预测前，允许其对数据提出问题的数量。决策树是**监督学习算法**中的一种。\n",
    "\n",
    "在下方 `fit_model` 函数中，你需要做的是：\n",
    "\n",
    "- 遍历参数`‘max_depth’`的可选值 1～10，构造对应模型\n",
    "- 计算当前模型的交叉验证分数\n",
    "- 返回最优交叉验证分数对应的模型"
   ]
  },
  {
   "cell_type": "code",
   "execution_count": 36,
   "metadata": {
    "collapsed": true
   },
   "outputs": [],
   "source": [
    "# TODO 4 可选\n",
    "\n",
    "'''\n",
    "不允许使用 DecisionTreeRegressor 以外的任何 sklearn 库\n",
    "\n",
    "提示: 你可能需要实现下面的 cross_val_score 函数\n",
    "\n",
    "def cross_val_score(estimator, X, y, scoring = performance_metric, cv=3):\n",
    "    \"\"\" 返回每组交叉验证的模型分数的数组 \"\"\"\n",
    "    scores = [0,0,0]\n",
    "    return scores\n",
    "'''\n",
    "\n",
    "def fit_model2(X, y):\n",
    "    \"\"\" 基于输入数据 [X,y]，利于网格搜索找到最优的决策树模型\"\"\"\n",
    "    \n",
    "    #最优交叉验证分数对应的最优模型\n",
    "    best_estimator = None\n",
    "    \n",
    "    return best_estimator"
   ]
  },
  {
   "cell_type": "markdown",
   "metadata": {},
   "source": [
    "### 问题 9 - 最优模型\n",
    "*最优模型的最大深度（maximum depth）是多少？此答案与你在**问题 6**所做的猜测是否相同？*\n",
    "\n",
    "运行下方区域内的代码，将决策树回归函数代入训练数据的集合，以得到最优化的模型。"
   ]
  },
  {
   "cell_type": "code",
   "execution_count": 37,
   "metadata": {
    "scrolled": true
   },
   "outputs": [
    {
     "name": "stdout",
     "output_type": "stream",
     "text": [
      "   mean_fit_time  mean_score_time  mean_test_score  mean_train_score  \\\n",
      "0         0.0019           0.0004         0.335470          0.461190   \n",
      "1         0.0019           0.0005         0.630950          0.748594   \n",
      "2         0.0021           0.0007         0.768372          0.845029   \n",
      "3         0.0022           0.0007         0.812380          0.892329   \n",
      "4         0.0021           0.0003         0.798604          0.918748   \n",
      "5         0.0021           0.0006         0.769862          0.941842   \n",
      "6         0.0023           0.0006         0.754771          0.956973   \n",
      "7         0.0025           0.0005         0.758701          0.967868   \n",
      "8         0.0028           0.0007         0.757979          0.977237   \n",
      "9         0.0028           0.0004         0.748433          0.984150   \n",
      "\n",
      "  param_max_depth              params  rank_test_score  split0_test_score  \\\n",
      "0               1   {u'max_depth': 1}               10           0.051248   \n",
      "1               2   {u'max_depth': 2}                9           0.437924   \n",
      "2               3   {u'max_depth': 3}                4           0.638685   \n",
      "3               4   {u'max_depth': 4}                1           0.745781   \n",
      "4               5   {u'max_depth': 5}                2           0.738276   \n",
      "5               6   {u'max_depth': 6}                3           0.723756   \n",
      "6               7   {u'max_depth': 7}                7           0.712434   \n",
      "7               8   {u'max_depth': 8}                5           0.715651   \n",
      "8               9   {u'max_depth': 9}                6           0.724897   \n",
      "9              10  {u'max_depth': 10}                8           0.720599   \n",
      "\n",
      "   split0_train_score  split1_test_score       ...         split7_test_score  \\\n",
      "0            0.480767           0.340812       ...                  0.344447   \n",
      "1            0.751102           0.773845       ...                  0.738845   \n",
      "2            0.850718           0.853020       ...                  0.791964   \n",
      "3            0.901592           0.869767       ...                  0.771377   \n",
      "4            0.925120           0.859588       ...                  0.797566   \n",
      "5            0.948027           0.860114       ...                  0.721552   \n",
      "6            0.962765           0.785399       ...                  0.710035   \n",
      "7            0.971634           0.813249       ...                  0.715326   \n",
      "8            0.978980           0.806769       ...                  0.714619   \n",
      "9            0.985894           0.756954       ...                  0.661113   \n",
      "\n",
      "   split7_train_score  split8_test_score  split8_train_score  \\\n",
      "0            0.458122           0.329617            0.465444   \n",
      "1            0.725102           0.613057            0.761454   \n",
      "2            0.838125           0.797751            0.851565   \n",
      "3            0.894696           0.818223            0.890550   \n",
      "4            0.920991           0.725768            0.922232   \n",
      "5            0.940556           0.697379            0.941559   \n",
      "6            0.953972           0.691454            0.955075   \n",
      "7            0.967164           0.682906            0.964878   \n",
      "8            0.975548           0.675186            0.975572   \n",
      "9            0.983104           0.673366            0.984504   \n",
      "\n",
      "   split9_test_score  split9_train_score  std_fit_time  std_score_time  \\\n",
      "0           0.400036            0.461914      0.000539        0.000490   \n",
      "1           0.745757            0.749127      0.000539        0.000500   \n",
      "2           0.799279            0.843777      0.000300        0.000900   \n",
      "3           0.872010            0.887737      0.000872        0.000458   \n",
      "4           0.875564            0.915407      0.000700        0.000458   \n",
      "5           0.773358            0.944042      0.000300        0.000490   \n",
      "6           0.748259            0.962033      0.000458        0.000490   \n",
      "7           0.715564            0.972779      0.000500        0.000500   \n",
      "8           0.751852            0.979161      0.000400        0.000458   \n",
      "9           0.747697            0.986177      0.000400        0.000490   \n",
      "\n",
      "   std_test_score  std_train_score  \n",
      "0        0.117405         0.008969  \n",
      "1        0.133263         0.011081  \n",
      "2        0.071002         0.006996  \n",
      "3        0.052026         0.004192  \n",
      "4        0.053804         0.003946  \n",
      "5        0.056010         0.003162  \n",
      "6        0.048322         0.003418  \n",
      "7        0.059104         0.003127  \n",
      "8        0.059244         0.002680  \n",
      "9        0.062149         0.002823  \n",
      "\n",
      "[10 rows x 31 columns]\n",
      "Parameter 'max_depth' is 4 for the optimal model.\n"
     ]
    }
   ],
   "source": [
    "# 基于训练数据，获得最优模型\n",
    "optimal_reg = fit_model(X_train, y_train)\n",
    "\n",
    "# 输出最优模型的 'max_depth' 参数\n",
    "print \"Parameter 'max_depth' is {} for the optimal model.\".format(optimal_reg.get_params()['max_depth'])"
   ]
  },
  {
   "cell_type": "markdown",
   "metadata": {},
   "source": [
    "### 问题 9 - 回答：\n",
    "结果可见最优模型的最大深度是4。"
   ]
  },
  {
   "cell_type": "markdown",
   "metadata": {},
   "source": [
    "## 第六步. 做出预测\n",
    "当我们用数据训练出一个模型，它现在就可用于对新的数据进行预测。在决策树回归函数中，模型已经学会对新输入的数据*提问*，并返回对**目标变量**的预测值。你可以用这个预测来获取数据未知目标变量的信息，这些数据必须是不包含在训练数据之内的。"
   ]
  },
  {
   "cell_type": "markdown",
   "metadata": {},
   "source": [
    "### 问题 10 - 预测销售价格\n",
    "想像你是一个在波士顿地区的房屋经纪人，并期待使用此模型以帮助你的客户评估他们想出售的房屋。你已经从你的三个客户收集到以下的资讯:\n",
    "\n",
    "| 特征 | 客戶 1 | 客戶 2 | 客戶 3 |\n",
    "| :---: | :---: | :---: | :---: |\n",
    "| 房屋内房间总数 | 5 间房间 | 4 间房间 | 8 间房间 |\n",
    "| 社区贫困指数（％被认为是贫困阶层） | 17% | 32% | 3% |\n",
    "| 邻近学校的学生-老师比例 | 15：1 | 22：1 | 12：1 |\n",
    "\n",
    "*你会建议每位客户的房屋销售的价格为多少？从房屋特征的数值判断，这样的价格合理吗？为什么？* \n",
    "\n",
    "**提示：**用你在**分析数据**部分计算出来的统计信息来帮助你证明你的答案。\n",
    "\n",
    "运行下列的代码区域，使用你优化的模型来为每位客户的房屋价值做出预测。"
   ]
  },
  {
   "cell_type": "code",
   "execution_count": 38,
   "metadata": {},
   "outputs": [
    {
     "name": "stdout",
     "output_type": "stream",
     "text": [
      "Predicted selling price for Client 1's home: $409,400.00\n",
      "Predicted selling price for Client 2's home: $229,682.35\n",
      "Predicted selling price for Client 3's home: $938,053.85\n"
     ]
    }
   ],
   "source": [
    "# 生成三个客户的数据\n",
    "client_data = [[5, 17, 15], # 客户 1\n",
    "               [4, 32, 22], # 客户 2\n",
    "               [8, 3, 12]]  # 客户 3\n",
    "\n",
    "# 进行预测\n",
    "predicted_price = optimal_reg.predict(client_data)\n",
    "for i, price in enumerate(predicted_price):\n",
    "    print \"Predicted selling price for Client {}'s home: ${:,.2f}\".format(i+1, price)"
   ]
  },
  {
   "cell_type": "markdown",
   "metadata": {},
   "source": [
    "### 问题 10 - 回答：\n",
    "从**编程练习 1：基础统计运算**统计分析出，均值为454,342.94，最小值为105,000.00，最大值为1,024,800.00  \n",
    "从上面预测值看到，三个客户的均值为525,712.07 ,与整体均值相差不大，而三个价格都在整体统计的最小值与最大值之间，预测算是合理"
   ]
  },
  {
   "cell_type": "markdown",
   "metadata": {},
   "source": [
    "### 编程练习 5\n",
    "你刚刚预测了三个客户的房子的售价。在这个练习中，你将用你的最优模型在整个测试数据上进行预测, 并计算相对于目标变量的决定系数 R<sup>2</sup>的值**。"
   ]
  },
  {
   "cell_type": "code",
   "execution_count": 40,
   "metadata": {},
   "outputs": [
    {
     "name": "stdout",
     "output_type": "stream",
     "text": [
      "Optimal model has R^2 score 0.73 on test data\n"
     ]
    }
   ],
   "source": [
    "#TODO 5\n",
    "\n",
    "# 提示：你可能需要用到 X_test, y_test, optimal_reg, performance_metric\n",
    "# 提示：你可能需要参考问题10的代码进行预测\n",
    "# 提示：你可能需要参考问题3的代码来计算R^2的值\n",
    "\n",
    "r2 = performance_metric(y_test,optimal_reg.predict(X_test))\n",
    "\n",
    "print \"Optimal model has R^2 score {:,.2f} on test data\".format(r2)"
   ]
  },
  {
   "cell_type": "markdown",
   "metadata": {},
   "source": [
    "### 问题11 - 分析决定系数\n",
    "\n",
    "你刚刚计算了最优模型在测试集上的决定系数，你会如何评价这个结果？"
   ]
  },
  {
   "cell_type": "markdown",
   "metadata": {},
   "source": [
    "### 问题11 - 回答\n",
    "决定系数0.73是较好地反应模型的预测能力"
   ]
  },
  {
   "cell_type": "markdown",
   "metadata": {},
   "source": [
    "### 模型健壮性\n",
    "\n",
    "一个最优的模型不一定是一个健壮模型。有的时候模型会过于复杂或者过于简单，以致于难以泛化新增添的数据；有的时候模型采用的学习算法并不适用于特定的数据结构；有的时候样本本身可能有太多噪点或样本过少，使得模型无法准确地预测目标变量。这些情况下我们会说模型是欠拟合的。\n",
    "\n",
    "### 问题 12 - 模型健壮性\n",
    "\n",
    "模型是否足够健壮来保证预测的一致性？\n",
    "\n",
    "**提示**: 执行下方区域中的代码，采用不同的训练和测试集执行 `fit_model` 函数10次。注意观察对一个特定的客户来说，预测是如何随训练数据的变化而变化的。"
   ]
  },
  {
   "cell_type": "code",
   "execution_count": 41,
   "metadata": {},
   "outputs": [
    {
     "name": "stdout",
     "output_type": "stream",
     "text": [
      "   mean_fit_time  mean_score_time  mean_test_score  mean_train_score  \\\n",
      "0         0.0015           0.0004         0.447584          0.473878   \n",
      "1         0.0011           0.0005         0.674242          0.736967   \n",
      "2         0.0012           0.0004         0.769937          0.837657   \n",
      "3         0.0014           0.0005         0.799461          0.877091   \n",
      "4         0.0011           0.0004         0.790554          0.906406   \n",
      "5         0.0012           0.0001         0.778131          0.931672   \n",
      "6         0.0014           0.0005         0.758261          0.948761   \n",
      "7         0.0016           0.0003         0.747163          0.961915   \n",
      "8         0.0015           0.0003         0.729932          0.974101   \n",
      "9         0.0017           0.0006         0.727619          0.983402   \n",
      "\n",
      "  param_max_depth              params  rank_test_score  split0_test_score  \\\n",
      "0               1   {u'max_depth': 1}               10           0.494102   \n",
      "1               2   {u'max_depth': 2}                9           0.726714   \n",
      "2               3   {u'max_depth': 3}                4           0.838350   \n",
      "3               4   {u'max_depth': 4}                1           0.835578   \n",
      "4               5   {u'max_depth': 5}                2           0.790871   \n",
      "5               6   {u'max_depth': 6}                3           0.757934   \n",
      "6               7   {u'max_depth': 7}                5           0.792421   \n",
      "7               8   {u'max_depth': 8}                6           0.747160   \n",
      "8               9   {u'max_depth': 9}                7           0.722130   \n",
      "9              10  {u'max_depth': 10}                8           0.735598   \n",
      "\n",
      "   split0_train_score  split1_test_score       ...         split7_test_score  \\\n",
      "0            0.469802           0.491591       ...                  0.483812   \n",
      "1            0.734291           0.722295       ...                  0.684434   \n",
      "2            0.839784           0.789437       ...                  0.748964   \n",
      "3            0.875854           0.827990       ...                  0.829205   \n",
      "4            0.906293           0.775855       ...                  0.827380   \n",
      "5            0.927986           0.761433       ...                  0.811302   \n",
      "6            0.946612           0.720300       ...                  0.816041   \n",
      "7            0.956494           0.689877       ...                  0.798700   \n",
      "8            0.968009           0.649346       ...                  0.764461   \n",
      "9            0.976778           0.591345       ...                  0.751438   \n",
      "\n",
      "   split7_train_score  split8_test_score  split8_train_score  \\\n",
      "0            0.467134           0.365407            0.478983   \n",
      "1            0.734137           0.678712            0.733305   \n",
      "2            0.828113           0.755077            0.829828   \n",
      "3            0.878008           0.832085            0.876472   \n",
      "4            0.908368           0.878403            0.902419   \n",
      "5            0.935916           0.866412            0.928360   \n",
      "6            0.952288           0.851190            0.944912   \n",
      "7            0.965065           0.837234            0.960295   \n",
      "8            0.977250           0.852906            0.972196   \n",
      "9            0.985029           0.844525            0.982033   \n",
      "\n",
      "   split9_test_score  split9_train_score  std_fit_time  std_score_time  \\\n",
      "0           0.423286            0.478430       0.00050        0.000490   \n",
      "1           0.648854            0.743091       0.00030        0.000500   \n",
      "2           0.771547            0.845357       0.00040        0.000490   \n",
      "3           0.815049            0.878156       0.00049        0.000500   \n",
      "4           0.806008            0.908965       0.00030        0.000490   \n",
      "5           0.816287            0.934588       0.00040        0.000300   \n",
      "6           0.809338            0.953607       0.00049        0.000500   \n",
      "7           0.800083            0.966198       0.00049        0.000458   \n",
      "8           0.749278            0.978531       0.00050        0.000458   \n",
      "9           0.743093            0.988219       0.00064        0.000490   \n",
      "\n",
      "   std_test_score  std_train_score  \n",
      "0        0.042545         0.004637  \n",
      "1        0.069163         0.005976  \n",
      "2        0.074989         0.007533  \n",
      "3        0.059741         0.005877  \n",
      "4        0.067648         0.005358  \n",
      "5        0.064774         0.004733  \n",
      "6        0.091341         0.004691  \n",
      "7        0.093627         0.004167  \n",
      "8        0.074849         0.003870  \n",
      "9        0.089165         0.003680  \n",
      "\n",
      "[10 rows x 31 columns]\n",
      "Trial 1: $391,183.33\n",
      "   mean_fit_time  mean_score_time  mean_test_score  mean_train_score  \\\n",
      "0         0.0008           0.0002         0.326146          0.454896   \n",
      "1         0.0013           0.0006         0.629274          0.717714   \n",
      "2         0.0011           0.0004         0.753419          0.825464   \n",
      "3         0.0014           0.0005         0.810802          0.874230   \n",
      "4         0.0011           0.0001         0.778601          0.899527   \n",
      "5         0.0016           0.0003         0.752791          0.923117   \n",
      "6         0.0017           0.0005         0.749386          0.944553   \n",
      "7         0.0015           0.0006         0.736360          0.960545   \n",
      "8         0.0019           0.0007         0.725851          0.975007   \n",
      "9         0.0020           0.0007         0.692455          0.983845   \n",
      "\n",
      "  param_max_depth              params  rank_test_score  split0_test_score  \\\n",
      "0               1   {u'max_depth': 1}               10           0.390622   \n",
      "1               2   {u'max_depth': 2}                9           0.643123   \n",
      "2               3   {u'max_depth': 3}                3           0.780687   \n",
      "3               4   {u'max_depth': 4}                1           0.828789   \n",
      "4               5   {u'max_depth': 5}                2           0.809435   \n",
      "5               6   {u'max_depth': 6}                4           0.730894   \n",
      "6               7   {u'max_depth': 7}                5           0.859148   \n",
      "7               8   {u'max_depth': 8}                6           0.816746   \n",
      "8               9   {u'max_depth': 9}                7           0.750835   \n",
      "9              10  {u'max_depth': 10}                8           0.702672   \n",
      "\n",
      "   split0_train_score  split1_test_score       ...         split7_test_score  \\\n",
      "0            0.454453           0.377254       ...                  0.296263   \n",
      "1            0.720298           0.773049       ...                  0.634378   \n",
      "2            0.829850           0.877303       ...                  0.707962   \n",
      "3            0.877611           0.903201       ...                  0.798356   \n",
      "4            0.901278           0.857651       ...                  0.746323   \n",
      "5            0.928058           0.848755       ...                  0.767522   \n",
      "6            0.946963           0.845939       ...                  0.753207   \n",
      "7            0.961689           0.848004       ...                  0.741472   \n",
      "8            0.975446           0.788403       ...                  0.738198   \n",
      "9            0.988310           0.792788       ...                  0.751448   \n",
      "\n",
      "   split7_train_score  split8_test_score  split8_train_score  \\\n",
      "0            0.459701           0.377713            0.452538   \n",
      "1            0.714152           0.620027            0.730178   \n",
      "2            0.810368           0.773391            0.832881   \n",
      "3            0.871641           0.810029            0.873599   \n",
      "4            0.901062           0.784630            0.904052   \n",
      "5            0.922912           0.747688            0.932959   \n",
      "6            0.946489           0.752410            0.952176   \n",
      "7            0.961771           0.776886            0.963959   \n",
      "8            0.974261           0.778028            0.979469   \n",
      "9            0.982654           0.742021            0.989192   \n",
      "\n",
      "   split9_test_score  split9_train_score  std_fit_time  std_score_time  \\\n",
      "0           0.477099            0.444118      0.000400        0.000400   \n",
      "1           0.730894            0.703767      0.000640        0.000490   \n",
      "2           0.795197            0.825557      0.000539        0.000490   \n",
      "3           0.869843            0.873128      0.000490        0.000500   \n",
      "4           0.839298            0.897827      0.000300        0.000300   \n",
      "5           0.872755            0.920869      0.000490        0.000458   \n",
      "6           0.828971            0.940493      0.000640        0.000500   \n",
      "7           0.792532            0.955430      0.000671        0.000490   \n",
      "8           0.769261            0.976337      0.000539        0.000458   \n",
      "9           0.775148            0.985594      0.000632        0.000458   \n",
      "\n",
      "   std_test_score  std_train_score  \n",
      "0        0.135581         0.006176  \n",
      "1        0.112318         0.007181  \n",
      "2        0.100903         0.007784  \n",
      "3        0.070945         0.005448  \n",
      "4        0.092634         0.004505  \n",
      "5        0.090982         0.005829  \n",
      "6        0.094334         0.004744  \n",
      "7        0.088330         0.003403  \n",
      "8        0.074563         0.003960  \n",
      "9        0.103713         0.004354  \n",
      "\n",
      "[10 rows x 31 columns]\n",
      "Trial 2: $411,417.39\n"
     ]
    },
    {
     "name": "stdout",
     "output_type": "stream",
     "text": [
      "   mean_fit_time  mean_score_time  mean_test_score  mean_train_score  \\\n",
      "0         0.0010           0.0004         0.282470          0.464676   \n",
      "1         0.0012           0.0007         0.615660          0.728258   \n",
      "2         0.0014           0.0003         0.722813          0.823958   \n",
      "3         0.0015           0.0005         0.750278          0.873556   \n",
      "4         0.0015           0.0005         0.709303          0.903372   \n",
      "5         0.0017           0.0005         0.695301          0.931683   \n",
      "6         0.0015           0.0002         0.689959          0.951834   \n",
      "7         0.0019           0.0004         0.670116          0.964898   \n",
      "8         0.0016           0.0003         0.686276          0.975289   \n",
      "9         0.0020           0.0006         0.646773          0.984456   \n",
      "\n",
      "  param_max_depth              params  rank_test_score  split0_test_score  \\\n",
      "0               1   {u'max_depth': 1}               10           0.410075   \n",
      "1               2   {u'max_depth': 2}                9           0.706617   \n",
      "2               3   {u'max_depth': 3}                2           0.805201   \n",
      "3               4   {u'max_depth': 4}                1           0.825672   \n",
      "4               5   {u'max_depth': 5}                3           0.843374   \n",
      "5               6   {u'max_depth': 6}                4           0.851232   \n",
      "6               7   {u'max_depth': 7}                5           0.807986   \n",
      "7               8   {u'max_depth': 8}                7           0.816000   \n",
      "8               9   {u'max_depth': 9}                6           0.827234   \n",
      "9              10  {u'max_depth': 10}                8           0.802336   \n",
      "\n",
      "   split0_train_score  split1_test_score       ...         split7_test_score  \\\n",
      "0            0.451665           0.388399       ...                  0.429343   \n",
      "1            0.723518           0.718007       ...                  0.671954   \n",
      "2            0.823438           0.677206       ...                  0.782890   \n",
      "3            0.868208           0.646861       ...                  0.847176   \n",
      "4            0.899520           0.623418       ...                  0.825286   \n",
      "5            0.936955           0.569441       ...                  0.842053   \n",
      "6            0.955742           0.576429       ...                  0.816975   \n",
      "7            0.967565           0.564376       ...                  0.830691   \n",
      "8            0.978004           0.534086       ...                  0.793609   \n",
      "9            0.987038           0.518884       ...                  0.771783   \n",
      "\n",
      "   split7_train_score  split8_test_score  split8_train_score  \\\n",
      "0            0.457787           0.435583            0.445450   \n",
      "1            0.723431           0.604671            0.720920   \n",
      "2            0.818955           0.773652            0.827578   \n",
      "3            0.866687           0.785188            0.867773   \n",
      "4            0.895842           0.766038            0.906790   \n",
      "5            0.924464           0.704811            0.936080   \n",
      "6            0.946286           0.728270            0.954199   \n",
      "7            0.962144           0.727178            0.965345   \n",
      "8            0.974124           0.745038            0.978197   \n",
      "9            0.980884           0.655378            0.986116   \n",
      "\n",
      "   split9_test_score  split9_train_score  std_fit_time  std_score_time  \\\n",
      "0           0.371725            0.462351      0.000447        0.000490   \n",
      "1           0.680343            0.729018      0.000400        0.000458   \n",
      "2           0.725257            0.822430      0.000663        0.000458   \n",
      "3           0.703288            0.877348      0.000500        0.000500   \n",
      "4           0.558442            0.909877      0.000500        0.000500   \n",
      "5           0.618533            0.929847      0.000640        0.000500   \n",
      "6           0.523389            0.952992      0.000500        0.000400   \n",
      "7           0.463366            0.963869      0.000538        0.000490   \n",
      "8           0.558610            0.972118      0.000490        0.000458   \n",
      "9           0.442800            0.981659      0.000447        0.000490   \n",
      "\n",
      "   std_test_score  std_train_score  \n",
      "0        0.192710         0.016310  \n",
      "1        0.111988         0.009120  \n",
      "2        0.072672         0.004256  \n",
      "3        0.066195         0.004888  \n",
      "4        0.105628         0.003887  \n",
      "5        0.126798         0.005058  \n",
      "6        0.097802         0.004599  \n",
      "7        0.117840         0.003471  \n",
      "8        0.105347         0.003539  \n",
      "9        0.130829         0.002683  \n",
      "\n",
      "[10 rows x 31 columns]\n",
      "Trial 3: $415,800.00\n",
      "   mean_fit_time  mean_score_time  mean_test_score  mean_train_score  \\\n",
      "0         0.0010           0.0004         0.272637          0.466995   \n",
      "1         0.0010           0.0005         0.626995          0.741349   \n",
      "2         0.0011           0.0002         0.719304          0.828137   \n",
      "3         0.0010           0.0001         0.754662          0.881186   \n",
      "4         0.0011           0.0000         0.743689          0.907407   \n",
      "5         0.0013           0.0001         0.737888          0.928922   \n",
      "6         0.0016           0.0004         0.711982          0.946767   \n",
      "7         0.0013           0.0004         0.706512          0.959745   \n",
      "8         0.0012           0.0005         0.685141          0.970840   \n",
      "9         0.0015           0.0002         0.677016          0.980568   \n",
      "\n",
      "  param_max_depth              params  rank_test_score  split0_test_score  \\\n",
      "0               1   {u'max_depth': 1}               10           0.391324   \n",
      "1               2   {u'max_depth': 2}                9           0.769396   \n",
      "2               3   {u'max_depth': 3}                4           0.867615   \n",
      "3               4   {u'max_depth': 4}                1           0.866939   \n",
      "4               5   {u'max_depth': 5}                2           0.831308   \n",
      "5               6   {u'max_depth': 6}                3           0.836209   \n",
      "6               7   {u'max_depth': 7}                5           0.810673   \n",
      "7               8   {u'max_depth': 8}                6           0.795279   \n",
      "8               9   {u'max_depth': 9}                7           0.781091   \n",
      "9              10  {u'max_depth': 10}                8           0.788856   \n",
      "\n",
      "   split0_train_score  split1_test_score       ...         split7_test_score  \\\n",
      "0            0.451845           0.554048       ...                  0.405364   \n",
      "1            0.732440           0.785488       ...                  0.755686   \n",
      "2            0.824501           0.796727       ...                  0.839316   \n",
      "3            0.876001           0.854991       ...                  0.861052   \n",
      "4            0.903803           0.843390       ...                  0.799636   \n",
      "5            0.934163           0.855458       ...                  0.768126   \n",
      "6            0.953753           0.869137       ...                  0.740766   \n",
      "7            0.963129           0.862566       ...                  0.757647   \n",
      "8            0.975614           0.850133       ...                  0.737843   \n",
      "9            0.986189           0.843171       ...                  0.716232   \n",
      "\n",
      "   split7_train_score  split8_test_score  split8_train_score  \\\n",
      "0            0.435212           0.043577            0.484742   \n",
      "1            0.729844           0.509832            0.748596   \n",
      "2            0.826063           0.726572            0.830674   \n",
      "3            0.872170           0.789022            0.884620   \n",
      "4            0.901840           0.764453            0.906469   \n",
      "5            0.923549           0.776830            0.924310   \n",
      "6            0.941322           0.799047            0.943021   \n",
      "7            0.956699           0.780168            0.954261   \n",
      "8            0.965801           0.771540            0.967950   \n",
      "9            0.979668           0.737971            0.975629   \n",
      "\n",
      "   split9_test_score  split9_train_score  std_fit_time  std_score_time  \\\n",
      "0           0.349842            0.471352  7.152557e-08         0.00049   \n",
      "1           0.668908            0.733992  1.168008e-07         0.00050   \n",
      "2           0.706089            0.817902  2.999624e-04         0.00040   \n",
      "3           0.730673            0.868126  1.092571e-07         0.00030   \n",
      "4           0.723772            0.896820  2.999544e-04         0.00000   \n",
      "5           0.685647            0.926237  4.582348e-04         0.00030   \n",
      "6           0.681156            0.948110  4.899014e-04         0.00049   \n",
      "7           0.653894            0.962326  4.582816e-04         0.00049   \n",
      "8           0.641115            0.976490  4.000187e-04         0.00050   \n",
      "9           0.652565            0.984485  4.999876e-04         0.00040   \n",
      "\n",
      "   std_test_score  std_train_score  \n",
      "0        0.198432         0.017545  \n",
      "1        0.136013         0.009460  \n",
      "2        0.128439         0.005474  \n",
      "3        0.133144         0.007502  \n",
      "4        0.131604         0.005572  \n",
      "5        0.128893         0.005141  \n",
      "6        0.141932         0.004296  \n",
      "7        0.137817         0.003953  \n",
      "8        0.165863         0.005027  \n",
      "9        0.161594         0.004450  \n",
      "\n",
      "[10 rows x 31 columns]\n",
      "Trial 4: $420,622.22\n"
     ]
    },
    {
     "name": "stdout",
     "output_type": "stream",
     "text": [
      "   mean_fit_time  mean_score_time  mean_test_score  mean_train_score  \\\n",
      "0         0.0009           0.0004         0.406406          0.463455   \n",
      "1         0.0009           0.0001         0.646547          0.729501   \n",
      "2         0.0009           0.0003         0.741941          0.815730   \n",
      "3         0.0010           0.0003         0.774279          0.863102   \n",
      "4         0.0012           0.0001         0.772886          0.892148   \n",
      "5         0.0015           0.0004         0.749422          0.917677   \n",
      "6         0.0014           0.0006         0.739000          0.941104   \n",
      "7         0.0015           0.0002         0.717551          0.957974   \n",
      "8         0.0016           0.0004         0.708745          0.972780   \n",
      "9         0.0016           0.0005         0.687200          0.982598   \n",
      "\n",
      "  param_max_depth              params  rank_test_score  split0_test_score  \\\n",
      "0               1   {u'max_depth': 1}               10           0.491508   \n",
      "1               2   {u'max_depth': 2}                9           0.753028   \n",
      "2               3   {u'max_depth': 3}                4           0.846987   \n",
      "3               4   {u'max_depth': 4}                1           0.843642   \n",
      "4               5   {u'max_depth': 5}                2           0.809140   \n",
      "5               6   {u'max_depth': 6}                3           0.769920   \n",
      "6               7   {u'max_depth': 7}                5           0.846407   \n",
      "7               8   {u'max_depth': 8}                6           0.833453   \n",
      "8               9   {u'max_depth': 9}                7           0.746689   \n",
      "9              10  {u'max_depth': 10}                8           0.719937   \n",
      "\n",
      "   split0_train_score  split1_test_score       ...         split7_test_score  \\\n",
      "0            0.455160           0.408815       ...                  0.366108   \n",
      "1            0.718944           0.618151       ...                  0.640993   \n",
      "2            0.802623           0.785218       ...                  0.566492   \n",
      "3            0.854923           0.845266       ...                  0.639704   \n",
      "4            0.887930           0.858092       ...                  0.658590   \n",
      "5            0.913013           0.843410       ...                  0.555927   \n",
      "6            0.933517           0.800383       ...                  0.500760   \n",
      "7            0.950706           0.809662       ...                  0.604592   \n",
      "8            0.970465           0.816988       ...                  0.564134   \n",
      "9            0.982138           0.781427       ...                  0.510816   \n",
      "\n",
      "   split7_train_score  split8_test_score  split8_train_score  \\\n",
      "0            0.471423           0.574522            0.448649   \n",
      "1            0.732871           0.611692            0.736799   \n",
      "2            0.832083           0.676670            0.827390   \n",
      "3            0.872921           0.735878            0.873644   \n",
      "4            0.894212           0.707747            0.904334   \n",
      "5            0.919671           0.683846            0.925817   \n",
      "6            0.947695           0.696205            0.945678   \n",
      "7            0.962407           0.659556            0.966943   \n",
      "8            0.973470           0.699517            0.980473   \n",
      "9            0.984785           0.661311            0.989503   \n",
      "\n",
      "   split9_test_score  split9_train_score  std_fit_time  std_score_time  \\\n",
      "0           0.354067            0.460546  3.000101e-04        0.000490   \n",
      "1           0.707915            0.722246  2.999862e-04        0.000300   \n",
      "2           0.848475            0.810717  3.000021e-04        0.000458   \n",
      "3           0.860265            0.854797  9.536743e-08        0.000458   \n",
      "4           0.836944            0.888583  4.000187e-04        0.000300   \n",
      "5           0.835959            0.914874  4.999638e-04        0.000490   \n",
      "6           0.827849            0.940173  4.898722e-04        0.000490   \n",
      "7           0.781990            0.954394  5.000115e-04        0.000400   \n",
      "8           0.782715            0.966848  4.899306e-04        0.000490   \n",
      "9           0.754161            0.976083  4.899209e-04        0.000500   \n",
      "\n",
      "   std_test_score  std_train_score  \n",
      "0        0.086809         0.009588  \n",
      "1        0.083601         0.006480  \n",
      "2        0.088119         0.010231  \n",
      "3        0.081141         0.007447  \n",
      "4        0.069603         0.005685  \n",
      "5        0.108413         0.006717  \n",
      "6        0.110931         0.006998  \n",
      "7        0.107405         0.006154  \n",
      "8        0.096014         0.005071  \n",
      "9        0.103629         0.004489  \n",
      "\n",
      "[10 rows x 31 columns]\n",
      "Trial 5: $413,334.78\n",
      "   mean_fit_time  mean_score_time  mean_test_score  mean_train_score  \\\n",
      "0         0.0010           0.0006         0.314879          0.465823   \n",
      "1         0.0011           0.0004         0.591448          0.718714   \n",
      "2         0.0012           0.0003         0.678523          0.810550   \n",
      "3         0.0014           0.0005         0.747871          0.861963   \n",
      "4         0.0012           0.0006         0.734709          0.891748   \n",
      "5         0.0012           0.0001         0.725894          0.920287   \n",
      "6         0.0018           0.0006         0.699865          0.941403   \n",
      "7         0.0012           0.0003         0.661493          0.959782   \n",
      "8         0.0021           0.0004         0.646158          0.972577   \n",
      "9         0.0020           0.0005         0.625697          0.981928   \n",
      "\n",
      "  param_max_depth              params  rank_test_score  split0_test_score  \\\n",
      "0               1   {u'max_depth': 1}               10           0.414949   \n",
      "1               2   {u'max_depth': 2}                9           0.648181   \n",
      "2               3   {u'max_depth': 3}                5           0.758900   \n",
      "3               4   {u'max_depth': 4}                1           0.777885   \n",
      "4               5   {u'max_depth': 5}                2           0.734702   \n",
      "5               6   {u'max_depth': 6}                3           0.717674   \n",
      "6               7   {u'max_depth': 7}                4           0.723855   \n",
      "7               8   {u'max_depth': 8}                6           0.723809   \n",
      "8               9   {u'max_depth': 9}                7           0.695540   \n",
      "9              10  {u'max_depth': 10}                8           0.681640   \n",
      "\n",
      "   split0_train_score  split1_test_score       ...         split7_test_score  \\\n",
      "0            0.465002           0.569549       ...                  0.432375   \n",
      "1            0.719144           0.655132       ...                  0.651317   \n",
      "2            0.808635           0.680286       ...                  0.730529   \n",
      "3            0.860538           0.685836       ...                  0.753296   \n",
      "4            0.893049           0.715727       ...                  0.732199   \n",
      "5            0.919645           0.690785       ...                  0.710495   \n",
      "6            0.938856           0.653214       ...                  0.723908   \n",
      "7            0.954260           0.607889       ...                  0.708094   \n",
      "8            0.971634           0.634517       ...                  0.718350   \n",
      "9            0.981048           0.622406       ...                  0.697519   \n",
      "\n",
      "   split7_train_score  split8_test_score  split8_train_score  \\\n",
      "0            0.464447           0.411065            0.465867   \n",
      "1            0.719447           0.757323            0.707281   \n",
      "2            0.812869           0.803447            0.805305   \n",
      "3            0.867113           0.870539            0.855178   \n",
      "4            0.892640           0.848380            0.884019   \n",
      "5            0.922426           0.850592            0.916143   \n",
      "6            0.943855           0.831138            0.941492   \n",
      "7            0.959740           0.813371            0.963937   \n",
      "8            0.969588           0.756997            0.974636   \n",
      "9            0.979868           0.781976            0.984648   \n",
      "\n",
      "   split9_test_score  split9_train_score  std_fit_time  std_score_time  \\\n",
      "0           0.389427            0.471584  1.168008e-07        0.000490   \n",
      "1           0.659583            0.720192  3.000021e-04        0.000490   \n",
      "2           0.812292            0.803401  4.000068e-04        0.000458   \n",
      "3           0.880631            0.850940  9.164799e-04        0.000500   \n",
      "4           0.870554            0.883462  4.000187e-04        0.000490   \n",
      "5           0.856532            0.918064  4.000187e-04        0.000300   \n",
      "6           0.836059            0.938620  8.717330e-04        0.000490   \n",
      "7           0.856396            0.949902  4.000306e-04        0.000458   \n",
      "8           0.848486            0.964441  6.999561e-04        0.000490   \n",
      "9           0.789720            0.976536  4.471812e-04        0.000500   \n",
      "\n",
      "   std_test_score  std_train_score  \n",
      "0        0.307143         0.009058  \n",
      "1        0.159488         0.005934  \n",
      "2        0.219320         0.006485  \n",
      "3        0.139864         0.006098  \n",
      "4        0.126745         0.005430  \n",
      "5        0.126825         0.004502  \n",
      "6        0.143266         0.004155  \n",
      "7        0.168776         0.004630  \n",
      "8        0.187861         0.004113  \n",
      "9        0.211100         0.003184  \n",
      "\n",
      "[10 rows x 31 columns]\n",
      "Trial 6: $411,931.58\n"
     ]
    },
    {
     "name": "stdout",
     "output_type": "stream",
     "text": [
      "   mean_fit_time  mean_score_time  mean_test_score  mean_train_score  \\\n",
      "0         0.0009           0.0007         0.310759          0.492053   \n",
      "1         0.0013           0.0004         0.633745          0.752982   \n",
      "2         0.0012           0.0003         0.723479          0.834345   \n",
      "3         0.0016           0.0005         0.768953          0.881128   \n",
      "4         0.0012           0.0006         0.754219          0.909754   \n",
      "5         0.0017           0.0006         0.737696          0.930852   \n",
      "6         0.0017           0.0005         0.724365          0.948438   \n",
      "7         0.0019           0.0006         0.708399          0.964546   \n",
      "8         0.0018           0.0003         0.685074          0.976270   \n",
      "9         0.0022           0.0005         0.681481          0.984798   \n",
      "\n",
      "  param_max_depth              params  rank_test_score  split0_test_score  \\\n",
      "0               1   {u'max_depth': 1}               10           0.500040   \n",
      "1               2   {u'max_depth': 2}                9           0.772128   \n",
      "2               3   {u'max_depth': 3}                5           0.751834   \n",
      "3               4   {u'max_depth': 4}                1           0.823691   \n",
      "4               5   {u'max_depth': 5}                2           0.814638   \n",
      "5               6   {u'max_depth': 6}                3           0.807878   \n",
      "6               7   {u'max_depth': 7}                4           0.818808   \n",
      "7               8   {u'max_depth': 8}                6           0.801319   \n",
      "8               9   {u'max_depth': 9}                7           0.763533   \n",
      "9              10  {u'max_depth': 10}                8           0.765958   \n",
      "\n",
      "   split0_train_score  split1_test_score       ...         split7_test_score  \\\n",
      "0            0.486226           0.519952       ...                 -0.388003   \n",
      "1            0.749671           0.693977       ...                  0.115595   \n",
      "2            0.835279           0.781292       ...                  0.485332   \n",
      "3            0.878794           0.785092       ...                  0.596538   \n",
      "4            0.906958           0.673834       ...                  0.591148   \n",
      "5            0.930348           0.693414       ...                  0.548897   \n",
      "6            0.951769           0.665394       ...                  0.531957   \n",
      "7            0.968590           0.679812       ...                  0.517189   \n",
      "8            0.978984           0.639566       ...                  0.485316   \n",
      "9            0.987781           0.637291       ...                  0.445797   \n",
      "\n",
      "   split7_train_score  split8_test_score  split8_train_score  \\\n",
      "0            0.518386           0.321260            0.504373   \n",
      "1            0.758846           0.596095            0.768818   \n",
      "2            0.842040           0.689358            0.842142   \n",
      "3            0.892901           0.644884            0.897184   \n",
      "4            0.917765           0.646925            0.915915   \n",
      "5            0.945196           0.622104            0.931538   \n",
      "6            0.960241           0.581770            0.944791   \n",
      "7            0.971875           0.512213            0.960832   \n",
      "8            0.980134           0.530152            0.974801   \n",
      "9            0.987640           0.530925            0.983149   \n",
      "\n",
      "   split9_test_score  split9_train_score  std_fit_time  std_score_time  \\\n",
      "0           0.405700            0.463770      0.000300        0.000458   \n",
      "1           0.740463            0.732767      0.000458        0.000490   \n",
      "2           0.825623            0.832864      0.000400        0.000458   \n",
      "3           0.826416            0.873500      0.000663        0.000500   \n",
      "4           0.808686            0.907414      0.000400        0.000490   \n",
      "5           0.810918            0.931865      0.000640        0.000490   \n",
      "6           0.772689            0.954804      0.000458        0.000500   \n",
      "7           0.794297            0.970036      0.000943        0.000490   \n",
      "8           0.778935            0.979200      0.000600        0.000458   \n",
      "9           0.773986            0.987680      0.000400        0.000500   \n",
      "\n",
      "   std_test_score  std_train_score  \n",
      "0        0.260751         0.015602  \n",
      "1        0.184745         0.009139  \n",
      "2        0.091926         0.004879  \n",
      "3        0.085929         0.007805  \n",
      "4        0.090151         0.005764  \n",
      "5        0.097822         0.006404  \n",
      "6        0.120147         0.007065  \n",
      "7        0.115017         0.006526  \n",
      "8        0.114140         0.004306  \n",
      "9        0.119459         0.003303  \n",
      "\n",
      "[10 rows x 31 columns]\n",
      "Trial 7: $399,663.16\n",
      "   mean_fit_time  mean_score_time  mean_test_score  mean_train_score  \\\n",
      "0         0.0010           0.0003         0.323974          0.462098   \n",
      "1         0.0010           0.0001         0.638240          0.718640   \n",
      "2         0.0011           0.0005         0.730926          0.815083   \n",
      "3         0.0013           0.0003         0.758034          0.862872   \n",
      "4         0.0011           0.0000         0.749075          0.892390   \n",
      "5         0.0013           0.0005         0.709267          0.922853   \n",
      "6         0.0018           0.0005         0.684870          0.945509   \n",
      "7         0.0013           0.0007         0.664762          0.961403   \n",
      "8         0.0016           0.0003         0.648233          0.974912   \n",
      "9         0.0015           0.0003         0.634555          0.983843   \n",
      "\n",
      "  param_max_depth              params  rank_test_score  split0_test_score  \\\n",
      "0               1   {u'max_depth': 1}               10           0.322915   \n",
      "1               2   {u'max_depth': 2}                8           0.549981   \n",
      "2               3   {u'max_depth': 3}                3           0.686617   \n",
      "3               4   {u'max_depth': 4}                1           0.741886   \n",
      "4               5   {u'max_depth': 5}                2           0.698855   \n",
      "5               6   {u'max_depth': 6}                4           0.709574   \n",
      "6               7   {u'max_depth': 7}                5           0.690366   \n",
      "7               8   {u'max_depth': 8}                6           0.625917   \n",
      "8               9   {u'max_depth': 9}                7           0.591112   \n",
      "9              10  {u'max_depth': 10}                9           0.659574   \n",
      "\n",
      "   split0_train_score  split1_test_score       ...         split7_test_score  \\\n",
      "0            0.452677           0.494420       ...                  0.241983   \n",
      "1            0.723070           0.811932       ...                  0.529456   \n",
      "2            0.821928           0.841568       ...                  0.742128   \n",
      "3            0.864832           0.889547       ...                  0.779886   \n",
      "4            0.895172           0.873068       ...                  0.792198   \n",
      "5            0.926431           0.881518       ...                  0.755722   \n",
      "6            0.943591           0.855627       ...                  0.754889   \n",
      "7            0.958830           0.855249       ...                  0.742979   \n",
      "8            0.973986           0.783833       ...                  0.750557   \n",
      "9            0.980728           0.836796       ...                  0.748465   \n",
      "\n",
      "   split7_train_score  split8_test_score  split8_train_score  \\\n",
      "0            0.483233           0.509043            0.445739   \n",
      "1            0.729692           0.778373            0.695235   \n",
      "2            0.812209           0.826712            0.800600   \n",
      "3            0.859464           0.871185            0.857808   \n",
      "4            0.887045           0.812223            0.889589   \n",
      "5            0.916019           0.810640            0.919067   \n",
      "6            0.941721           0.791668            0.938179   \n",
      "7            0.959135           0.800598            0.953677   \n",
      "8            0.975090           0.761284            0.972996   \n",
      "9            0.984326           0.772208            0.984316   \n",
      "\n",
      "   split9_test_score  split9_train_score  std_fit_time  std_score_time  \\\n",
      "0           0.285187            0.453924  9.536743e-08        0.000458   \n",
      "1           0.668040            0.724945  1.092571e-07        0.000300   \n",
      "2           0.805153            0.817929  5.384598e-04        0.000500   \n",
      "3           0.814354            0.866196  4.582660e-04        0.000458   \n",
      "4           0.830267            0.898292  3.000101e-04        0.000000   \n",
      "5           0.831949            0.931439  4.582608e-04        0.000500   \n",
      "6           0.805337            0.953580  5.999565e-04        0.000500   \n",
      "7           0.824151            0.968663  4.582972e-04        0.000458   \n",
      "8           0.772415            0.978460  4.899014e-04        0.000458   \n",
      "9           0.756427            0.985331  4.999876e-04        0.000458   \n",
      "\n",
      "   std_test_score  std_train_score  \n",
      "0        0.146055         0.017090  \n",
      "1        0.129460         0.009999  \n",
      "2        0.141448         0.008121  \n",
      "3        0.129161         0.005890  \n",
      "4        0.127920         0.005252  \n",
      "5        0.175576         0.006415  \n",
      "6        0.180048         0.005431  \n",
      "7        0.204139         0.004554  \n",
      "8        0.175248         0.002424  \n",
      "9        0.209695         0.001748  \n",
      "\n",
      "[10 rows x 31 columns]\n",
      "Trial 8: $407,232.00\n"
     ]
    },
    {
     "name": "stdout",
     "output_type": "stream",
     "text": [
      "   mean_fit_time  mean_score_time  mean_test_score  mean_train_score  \\\n",
      "0         0.0014           0.0006         0.408159          0.467990   \n",
      "1         0.0010           0.0004         0.645400          0.721858   \n",
      "2         0.0010           0.0003         0.733830          0.820187   \n",
      "3         0.0011           0.0003         0.747345          0.867867   \n",
      "4         0.0011           0.0003         0.731911          0.897297   \n",
      "5         0.0014           0.0004         0.710754          0.920773   \n",
      "6         0.0014           0.0002         0.701254          0.942697   \n",
      "7         0.0014           0.0006         0.704117          0.959803   \n",
      "8         0.0015           0.0003         0.684829          0.972674   \n",
      "9         0.0015           0.0005         0.681428          0.981780   \n",
      "\n",
      "  param_max_depth              params  rank_test_score  split0_test_score  \\\n",
      "0               1   {u'max_depth': 1}               10           0.297905   \n",
      "1               2   {u'max_depth': 2}                9           0.589377   \n",
      "2               3   {u'max_depth': 3}                2           0.668933   \n",
      "3               4   {u'max_depth': 4}                1           0.666440   \n",
      "4               5   {u'max_depth': 5}                3           0.643072   \n",
      "5               6   {u'max_depth': 6}                4           0.645381   \n",
      "6               7   {u'max_depth': 7}                6           0.622217   \n",
      "7               8   {u'max_depth': 8}                5           0.595946   \n",
      "8               9   {u'max_depth': 9}                7           0.579907   \n",
      "9              10  {u'max_depth': 10}                8           0.561904   \n",
      "\n",
      "   split0_train_score  split1_test_score       ...         split7_test_score  \\\n",
      "0            0.474348           0.277887       ...                  0.538006   \n",
      "1            0.720417           0.535918       ...                  0.796426   \n",
      "2            0.815298           0.643302       ...                  0.868521   \n",
      "3            0.864599           0.628972       ...                  0.890570   \n",
      "4            0.897039           0.703483       ...                  0.899883   \n",
      "5            0.928637           0.692334       ...                  0.885537   \n",
      "6            0.950882           0.646172       ...                  0.897226   \n",
      "7            0.966631           0.655337       ...                  0.887174   \n",
      "8            0.979616           0.642301       ...                  0.875860   \n",
      "9            0.988680           0.651534       ...                  0.857988   \n",
      "\n",
      "   split7_train_score  split8_test_score  split8_train_score  \\\n",
      "0            0.457197           0.454242            0.467097   \n",
      "1            0.711064           0.655628            0.728374   \n",
      "2            0.812023           0.763889            0.820751   \n",
      "3            0.861787           0.706466            0.870212   \n",
      "4            0.885976           0.671115            0.895692   \n",
      "5            0.906199           0.661518            0.915999   \n",
      "6            0.926767           0.656183            0.939404   \n",
      "7            0.948814           0.658027            0.959434   \n",
      "8            0.962513           0.642570            0.974895   \n",
      "9            0.974005           0.614048            0.985441   \n",
      "\n",
      "   split9_test_score  split9_train_score  std_fit_time  std_score_time  \\\n",
      "0           0.557070            0.455304  6.633631e-04        0.000490   \n",
      "1           0.643399            0.721121  1.168008e-07        0.000490   \n",
      "2           0.763866            0.820575  1.092571e-07        0.000458   \n",
      "3           0.766700            0.869817  2.999624e-04        0.000458   \n",
      "4           0.792885            0.900040  3.000339e-04        0.000458   \n",
      "5           0.689323            0.922904  4.899403e-04        0.000490   \n",
      "6           0.711028            0.948893  4.898722e-04        0.000400   \n",
      "7           0.818554            0.961724  4.899306e-04        0.000490   \n",
      "8           0.781791            0.971650  5.000591e-04        0.000458   \n",
      "9           0.695908            0.978344  5.000115e-04        0.000500   \n",
      "\n",
      "   std_test_score  std_train_score  \n",
      "0        0.114133         0.010141  \n",
      "1        0.102543         0.008617  \n",
      "2        0.121106         0.006947  \n",
      "3        0.112894         0.006782  \n",
      "4        0.084636         0.006531  \n",
      "5        0.091533         0.008086  \n",
      "6        0.090060         0.007929  \n",
      "7        0.102028         0.004947  \n",
      "8        0.094851         0.004844  \n",
      "9        0.096919         0.004905  \n",
      "\n",
      "[10 rows x 31 columns]\n",
      "Trial 9: $402,531.82\n",
      "   mean_fit_time  mean_score_time  mean_test_score  mean_train_score  \\\n",
      "0         0.0009           0.0005         0.314500          0.433309   \n",
      "1         0.0008           0.0003         0.591270          0.724447   \n",
      "2         0.0011           0.0004         0.711356          0.821984   \n",
      "3         0.0011           0.0001         0.770150          0.867512   \n",
      "4         0.0013           0.0003         0.727739          0.898974   \n",
      "5         0.0011           0.0005         0.718110          0.925959   \n",
      "6         0.0015           0.0003         0.681556          0.945131   \n",
      "7         0.0015           0.0005         0.696284          0.960389   \n",
      "8         0.0021           0.0006         0.664509          0.971631   \n",
      "9         0.0020           0.0003         0.648396          0.981294   \n",
      "\n",
      "  param_max_depth              params  rank_test_score  split0_test_score  \\\n",
      "0               1   {u'max_depth': 1}               10           0.421407   \n",
      "1               2   {u'max_depth': 2}                9           0.611543   \n",
      "2               3   {u'max_depth': 3}                4           0.807118   \n",
      "3               4   {u'max_depth': 4}                1           0.860814   \n",
      "4               5   {u'max_depth': 5}                2           0.612704   \n",
      "5               6   {u'max_depth': 6}                3           0.593908   \n",
      "6               7   {u'max_depth': 7}                6           0.570858   \n",
      "7               8   {u'max_depth': 8}                5           0.549947   \n",
      "8               9   {u'max_depth': 9}                7           0.555860   \n",
      "9              10  {u'max_depth': 10}                8           0.504440   \n",
      "\n",
      "   split0_train_score  split1_test_score       ...         split7_test_score  \\\n",
      "0            0.430599          -0.167629       ...                  0.426229   \n",
      "1            0.732597           0.358714       ...                  0.764602   \n",
      "2            0.825679           0.551132       ...                  0.849333   \n",
      "3            0.866756           0.642211       ...                  0.850404   \n",
      "4            0.899226           0.633157       ...                  0.797888   \n",
      "5            0.923845           0.656086       ...                  0.822271   \n",
      "6            0.944418           0.662154       ...                  0.814000   \n",
      "7            0.961900           0.675073       ...                  0.783467   \n",
      "8            0.975545           0.631982       ...                  0.783403   \n",
      "9            0.985876           0.587228       ...                  0.753624   \n",
      "\n",
      "   split7_train_score  split8_test_score  split8_train_score  \\\n",
      "0            0.430279           0.332713            0.439954   \n",
      "1            0.717178           0.509177            0.724447   \n",
      "2            0.821715           0.616817            0.834660   \n",
      "3            0.868221           0.676226            0.873014   \n",
      "4            0.899390           0.641438            0.899641   \n",
      "5            0.923265           0.652527            0.929003   \n",
      "6            0.941206           0.485644            0.951296   \n",
      "7            0.955750           0.555740            0.963225   \n",
      "8            0.963473           0.584304            0.971716   \n",
      "9            0.971357           0.550901            0.981778   \n",
      "\n",
      "   split9_test_score  split9_train_score  std_fit_time  std_score_time  \\\n",
      "0           0.339949            0.445241  3.000021e-04        0.000500   \n",
      "1           0.682121            0.728404  4.000187e-04        0.000458   \n",
      "2           0.780748            0.818609  3.000339e-04        0.000490   \n",
      "3           0.835998            0.868681  2.999306e-04        0.000300   \n",
      "4           0.764672            0.904419  4.583180e-04        0.000458   \n",
      "5           0.793072            0.928947  3.000021e-04        0.000500   \n",
      "6           0.768004            0.951918  4.999399e-04        0.000458   \n",
      "7           0.722476            0.966244  4.999638e-04        0.000500   \n",
      "8           0.688184            0.975896  3.000101e-04        0.000490   \n",
      "9           0.673880            0.985066  1.168008e-07        0.000458   \n",
      "\n",
      "   std_test_score  std_train_score  \n",
      "0        0.169712         0.006327  \n",
      "1        0.135648         0.008403  \n",
      "2        0.124128         0.006273  \n",
      "3        0.097356         0.004697  \n",
      "4        0.093302         0.002724  \n",
      "5        0.079592         0.005258  \n",
      "6        0.114381         0.005104  \n",
      "7        0.105303         0.004188  \n",
      "8        0.104108         0.004299  \n",
      "9        0.098076         0.004406  \n",
      "\n",
      "[10 rows x 31 columns]\n",
      "Trial 10: $413,700.00\n",
      "\n",
      "Range in prices: $29,438.89\n"
     ]
    }
   ],
   "source": [
    "# 请先注释掉 fit_model 函数里的所有 print 语句\n",
    "vs.PredictTrials(features, prices, fit_model, client_data)"
   ]
  },
  {
   "cell_type": "markdown",
   "metadata": {},
   "source": [
    "### 问题 12 - 回答：\n",
    "对同一个特定用户，预测10次，返回值均值为409738.15，标准差为9308.376694，极差为32,116.67，说明预测结果波动范围比较大，健壮性不够好"
   ]
  },
  {
   "cell_type": "markdown",
   "metadata": {},
   "source": [
    "### 问题 13 - 实用性探讨\n",
    "*简单地讨论一下你建构的模型能否在现实世界中使用？* \n",
    "\n",
    "提示：回答以下几个问题，并给出相应结论的理由：\n",
    "- *1978年所采集的数据，在已考虑通货膨胀的前提下，在今天是否仍然适用？*\n",
    "- *数据中呈现的特征是否足够描述一个房屋？*\n",
    "- *在波士顿这样的大都市采集的数据，能否应用在其它乡镇地区？*\n",
    "- *你觉得仅仅凭房屋所在社区的环境来判断房屋价值合理吗？*"
   ]
  },
  {
   "cell_type": "markdown",
   "metadata": {},
   "source": [
    "### 问题 13 - 回答：\n",
    " - 不一定适用，影响因素可能会变；\n",
    " - 不足够，最佳模型出来的结果还不够好\n",
    " - 不一定适用，乡镇的房屋规划因应不同城市会有不同策略\n",
    " - 不一定合理，需要考虑其他潜在因素"
   ]
  },
  {
   "cell_type": "markdown",
   "metadata": {},
   "source": [
    "## 可选问题 - 预测北京房价\n",
    "\n",
    "（本题结果不影响项目是否通过）通过上面的实践，相信你对机器学习的一些常用概念有了很好的领悟和掌握。但利用70年代的波士顿房价数据进行建模的确对我们来说意义不是太大。现在你可以把你上面所学应用到北京房价数据集中 `bj_housing.csv`。\n",
    "\n",
    "免责声明：考虑到北京房价受到宏观经济、政策调整等众多因素的直接影响，预测结果仅供参考。\n",
    "\n",
    "这个数据集的特征有：\n",
    "- Area：房屋面积，平方米\n",
    "- Room：房间数，间\n",
    "- Living: 厅数，间\n",
    "- School: 是否为学区房，0或1\n",
    "- Year: 房屋建造时间，年\n",
    "- Floor: 房屋所处楼层，层\n",
    "\n",
    "目标变量：\n",
    "- Value: 房屋人民币售价，万\n",
    "\n",
    "你可以参考上面学到的内容，拿这个数据集来练习数据分割与重排、定义衡量标准、训练模型、评价模型表现、使用网格搜索配合交叉验证对参数进行调优并选出最佳参数，比较两者的差别，最终得出最佳模型对验证集的预测分数。"
   ]
  },
  {
   "cell_type": "code",
   "execution_count": 42,
   "metadata": {
    "collapsed": true
   },
   "outputs": [],
   "source": [
    "# TODO 6\n",
    "\n",
    "# 你的代码"
   ]
  },
  {
   "cell_type": "markdown",
   "metadata": {},
   "source": [
    "### 问题14 - 北京房价预测\n",
    "你成功的用新的数据集构建了模型了吗？他能对测试数据进行验证吗？它的表现是否符合你的预期？交叉验证是否有助于提升你模型的表现？\n",
    "\n",
    "**提示：**如果你是从零开始构建机器学习的代码会让你一时觉得无从下手。这时不要着急，你要做的只是查看之前写的代码，把每一行都看明白，然后逐步构建你的模型。当中遇到什么问题也可以在我们论坛寻找答案。也许你会发现你所构建的模型的表现并没有达到你的预期，这说明机器学习并非是一项简单的任务，构建一个表现良好的模型需要长时间的研究和测试。这也是我们接下来的课程中会逐渐学到的。"
   ]
  },
  {
   "cell_type": "markdown",
   "metadata": {},
   "source": [
    "### 问题14 - 回答"
   ]
  }
 ],
 "metadata": {
  "kernelspec": {
   "display_name": "Python 2",
   "language": "python",
   "name": "python2"
  },
  "language_info": {
   "codemirror_mode": {
    "name": "ipython",
    "version": 2
   },
   "file_extension": ".py",
   "mimetype": "text/x-python",
   "name": "python",
   "nbconvert_exporter": "python",
   "pygments_lexer": "ipython2",
   "version": "2.7.13"
  }
 },
 "nbformat": 4,
 "nbformat_minor": 1
}
